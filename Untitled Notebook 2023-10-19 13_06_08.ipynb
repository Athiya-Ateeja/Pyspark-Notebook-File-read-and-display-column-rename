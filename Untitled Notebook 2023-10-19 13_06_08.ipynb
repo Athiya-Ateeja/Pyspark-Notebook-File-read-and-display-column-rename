{
 "cells": [
  {
   "cell_type": "code",
   "execution_count": 0,
   "metadata": {
    "application/vnd.databricks.v1+cell": {
     "cellMetadata": {
      "byteLimit": 2048000,
      "rowLimit": 10000
     },
     "inputWidgets": {},
     "nuid": "705da1dc-871f-4b86-82b9-7b206d25e494",
     "showTitle": false,
     "title": ""
    }
   },
   "outputs": [],
   "source": [
    "df1 = spark.read.format(\"csv\").option(\"header\", \"true\").load(\"dbfs:/FileStore/shared_uploads/athiyaateeja@gmail.com/location_temp.csv\")"
   ]
  },
  {
   "cell_type": "code",
   "execution_count": 0,
   "metadata": {
    "application/vnd.databricks.v1+cell": {
     "cellMetadata": {
      "byteLimit": 2048000,
      "rowLimit": 10000
     },
     "inputWidgets": {},
     "nuid": "e7e9d5b5-93cd-40fa-99ed-6c5e86c232a5",
     "showTitle": false,
     "title": ""
    }
   },
   "outputs": [
    {
     "output_type": "stream",
     "name": "stdout",
     "output_type": "stream",
     "text": [
      "Out[2]: [Row(event_date='03/04/2019 19:48:06', location_id='loc0', temp_celcius='29'),\n Row(event_date='03/04/2019 19:53:06', location_id='loc0', temp_celcius='27'),\n Row(event_date='03/04/2019 19:58:06', location_id='loc0', temp_celcius='28'),\n Row(event_date='03/04/2019 20:03:06', location_id='loc0', temp_celcius='30'),\n Row(event_date='03/04/2019 20:08:06', location_id='loc0', temp_celcius='27'),\n Row(event_date='03/04/2019 20:13:06', location_id='loc0', temp_celcius='27'),\n Row(event_date='03/04/2019 20:18:06', location_id='loc0', temp_celcius='27'),\n Row(event_date='03/04/2019 20:23:06', location_id='loc0', temp_celcius='29'),\n Row(event_date='03/04/2019 20:28:06', location_id='loc0', temp_celcius='32'),\n Row(event_date='03/04/2019 20:33:06', location_id='loc0', temp_celcius='35')]"
     ]
    }
   ],
   "source": [
    "df1.head(10)"
   ]
  },
  {
   "cell_type": "code",
   "execution_count": 0,
   "metadata": {
    "application/vnd.databricks.v1+cell": {
     "cellMetadata": {
      "byteLimit": 2048000,
      "rowLimit": 10000
     },
     "inputWidgets": {},
     "nuid": "9c611af5-70a3-4049-a390-77a6546b5893",
     "showTitle": false,
     "title": ""
    }
   },
   "outputs": [
    {
     "output_type": "stream",
     "name": "stdout",
     "output_type": "stream",
     "text": [
      "+-------------------+-----------+------------+\n|         event_date|location_id|temp_celcius|\n+-------------------+-----------+------------+\n|03/04/2019 19:48:06|       loc0|          29|\n|03/04/2019 19:53:06|       loc0|          27|\n|03/04/2019 19:58:06|       loc0|          28|\n|03/04/2019 20:03:06|       loc0|          30|\n|03/04/2019 20:08:06|       loc0|          27|\n|03/04/2019 20:13:06|       loc0|          27|\n|03/04/2019 20:18:06|       loc0|          27|\n|03/04/2019 20:23:06|       loc0|          29|\n|03/04/2019 20:28:06|       loc0|          32|\n|03/04/2019 20:33:06|       loc0|          35|\n|03/04/2019 20:38:06|       loc0|          32|\n|03/04/2019 20:43:06|       loc0|          28|\n|03/04/2019 20:48:06|       loc0|          28|\n|03/04/2019 20:53:06|       loc0|          32|\n|03/04/2019 20:58:06|       loc0|          34|\n|03/04/2019 21:03:06|       loc0|          33|\n|03/04/2019 21:08:06|       loc0|          27|\n|03/04/2019 21:13:06|       loc0|          28|\n|03/04/2019 21:18:06|       loc0|          33|\n|03/04/2019 21:23:06|       loc0|          28|\n+-------------------+-----------+------------+\nonly showing top 20 rows\n\n"
     ]
    }
   ],
   "source": [
    "df1.show()"
   ]
  },
  {
   "cell_type": "code",
   "execution_count": 0,
   "metadata": {
    "application/vnd.databricks.v1+cell": {
     "cellMetadata": {
      "byteLimit": 2048000,
      "rowLimit": 10000
     },
     "inputWidgets": {},
     "nuid": "dd6b6b9f-9d4f-4612-ad20-0559282200f5",
     "showTitle": false,
     "title": ""
    }
   },
   "outputs": [
    {
     "output_type": "stream",
     "name": "stdout",
     "output_type": "stream",
     "text": [
      "Out[4]: 500000"
     ]
    }
   ],
   "source": [
    "df1.count()"
   ]
  },
  {
   "cell_type": "code",
   "execution_count": 0,
   "metadata": {
    "application/vnd.databricks.v1+cell": {
     "cellMetadata": {
      "byteLimit": 2048000,
      "rowLimit": 10000
     },
     "inputWidgets": {},
     "nuid": "fb84e1db-fa98-4cf3-9393-8164f8d5cbbd",
     "showTitle": false,
     "title": ""
    }
   },
   "outputs": [],
   "source": [
    "df2 = spark.read.format(\"csv\") \\\n",
    "        .option(\"header\", \"false\") \\\n",
    "        .option(\"inferschema\",\"true\") \\\n",
    "        .load(\"dbfs:/FileStore/shared_uploads/athiyaateeja@gmail.com/utilization.csv\")"
   ]
  },
  {
   "cell_type": "code",
   "execution_count": 0,
   "metadata": {
    "application/vnd.databricks.v1+cell": {
     "cellMetadata": {
      "byteLimit": 2048000,
      "rowLimit": 10000
     },
     "inputWidgets": {},
     "nuid": "b1a2b937-e3a0-4e89-970c-bcb81c1b9ab7",
     "showTitle": false,
     "title": ""
    }
   },
   "outputs": [
    {
     "output_type": "stream",
     "name": "stdout",
     "output_type": "stream",
     "text": [
      "+-------------------+---+----+----+---+\n|                _c0|_c1| _c2| _c3|_c4|\n+-------------------+---+----+----+---+\n|03/05/2019 08:06:14|100|0.57|0.51| 47|\n|03/05/2019 08:11:14|100|0.47|0.62| 43|\n|03/05/2019 08:16:14|100|0.56|0.57| 62|\n|03/05/2019 08:21:14|100|0.57|0.56| 50|\n|03/05/2019 08:26:14|100|0.35|0.46| 43|\n|03/05/2019 08:31:14|100|0.41|0.58| 48|\n|03/05/2019 08:36:14|100|0.57|0.35| 58|\n|03/05/2019 08:41:14|100|0.41| 0.4| 58|\n|03/05/2019 08:46:14|100|0.53|0.35| 62|\n|03/05/2019 08:51:14|100|0.51| 0.6| 45|\n|03/05/2019 08:56:14|100|0.32|0.37| 47|\n|03/05/2019 09:01:14|100|0.62|0.59| 60|\n|03/05/2019 09:06:14|100|0.66|0.72| 57|\n|03/05/2019 09:11:14|100|0.54|0.54| 44|\n|03/05/2019 09:16:14|100|0.29| 0.4| 47|\n|03/05/2019 09:21:14|100|0.43|0.68| 66|\n|03/05/2019 09:26:14|100|0.49|0.66| 65|\n|03/05/2019 09:31:14|100|0.64|0.55| 66|\n|03/05/2019 09:36:14|100|0.42| 0.6| 42|\n|03/05/2019 09:41:14|100|0.55|0.59| 63|\n+-------------------+---+----+----+---+\nonly showing top 20 rows\n\n"
     ]
    }
   ],
   "source": [
    "df2.show()"
   ]
  },
  {
   "cell_type": "code",
   "execution_count": 0,
   "metadata": {
    "application/vnd.databricks.v1+cell": {
     "cellMetadata": {
      "byteLimit": 2048000,
      "rowLimit": 10000
     },
     "inputWidgets": {},
     "nuid": "8fce9063-5294-4e42-88ca-1a2c6df6dc84",
     "showTitle": false,
     "title": ""
    }
   },
   "outputs": [],
   "source": [
    "df2=df2.withColumnRenamed(\"_c0\",\"event_datetime\") \\\n",
    "    .withColumnRenamed(\"_c1\",\"server_id\") \\\n",
    "    .withColumnRenamed(\"_c2\",\"cpu_utilization\") \\\n",
    "    .withColumnRenamed(\"_c3\",\"free_memory\") \\\n",
    "    .withColumnRenamed(\"_c4\",\"session_count\")"
   ]
  },
  {
   "cell_type": "code",
   "execution_count": 0,
   "metadata": {
    "application/vnd.databricks.v1+cell": {
     "cellMetadata": {
      "byteLimit": 2048000,
      "rowLimit": 10000
     },
     "inputWidgets": {},
     "nuid": "c6004f50-aabd-4b6c-9cb9-6c79251cd3ce",
     "showTitle": false,
     "title": ""
    }
   },
   "outputs": [
    {
     "output_type": "stream",
     "name": "stdout",
     "output_type": "stream",
     "text": [
      "+-------------------+---------+---------------+-----------+-------------+\n|     event_datetime|server_id|cpu_utilization|free_memory|session_count|\n+-------------------+---------+---------------+-----------+-------------+\n|03/05/2019 08:06:14|      100|           0.57|       0.51|           47|\n|03/05/2019 08:11:14|      100|           0.47|       0.62|           43|\n|03/05/2019 08:16:14|      100|           0.56|       0.57|           62|\n|03/05/2019 08:21:14|      100|           0.57|       0.56|           50|\n|03/05/2019 08:26:14|      100|           0.35|       0.46|           43|\n|03/05/2019 08:31:14|      100|           0.41|       0.58|           48|\n|03/05/2019 08:36:14|      100|           0.57|       0.35|           58|\n|03/05/2019 08:41:14|      100|           0.41|        0.4|           58|\n|03/05/2019 08:46:14|      100|           0.53|       0.35|           62|\n|03/05/2019 08:51:14|      100|           0.51|        0.6|           45|\n|03/05/2019 08:56:14|      100|           0.32|       0.37|           47|\n|03/05/2019 09:01:14|      100|           0.62|       0.59|           60|\n|03/05/2019 09:06:14|      100|           0.66|       0.72|           57|\n|03/05/2019 09:11:14|      100|           0.54|       0.54|           44|\n|03/05/2019 09:16:14|      100|           0.29|        0.4|           47|\n|03/05/2019 09:21:14|      100|           0.43|       0.68|           66|\n|03/05/2019 09:26:14|      100|           0.49|       0.66|           65|\n|03/05/2019 09:31:14|      100|           0.64|       0.55|           66|\n|03/05/2019 09:36:14|      100|           0.42|        0.6|           42|\n|03/05/2019 09:41:14|      100|           0.55|       0.59|           63|\n+-------------------+---------+---------------+-----------+-------------+\nonly showing top 20 rows\n\n"
     ]
    }
   ],
   "source": [
    "df2.show()"
   ]
  },
  {
   "cell_type": "code",
   "execution_count": 0,
   "metadata": {
    "application/vnd.databricks.v1+cell": {
     "cellMetadata": {},
     "inputWidgets": {},
     "nuid": "ebdb3a40-99a2-4660-a654-9f6cb446fa42",
     "showTitle": false,
     "title": ""
    }
   },
   "outputs": [],
   "source": []
  }
 ],
 "metadata": {
  "application/vnd.databricks.v1+notebook": {
   "dashboards": [],
   "language": "python",
   "notebookMetadata": {
    "pythonIndentUnit": 4
   },
   "notebookName": "Untitled Notebook 2023-10-19 13:06:08",
   "widgets": {}
  }
 },
 "nbformat": 4,
 "nbformat_minor": 0
}
